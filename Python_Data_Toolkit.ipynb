{
  "nbformat": 4,
  "nbformat_minor": 0,
  "metadata": {
    "colab": {
      "provenance": []
    },
    "kernelspec": {
      "name": "python3",
      "display_name": "Python 3"
    },
    "language_info": {
      "name": "python"
    }
  },
  "cells": [
    {
      "cell_type": "markdown",
      "source": [
        "# THEORY QUESTIONS\n",
        "\n",
        "1.  What is NumPy, and why is it widely used in Python?\n",
        "\n",
        "Ans - NumPy is a fundamental Python library used for numerical computing, providing efficient tools for working with multi-dimensional arrays and matrices. It's used in Python for its speed, efficiency, and ability to perform complex mathematical operations on large datasets, making it an essential library in fields like data science and scientific computing.\n",
        "\n",
        "Its ability to efficiently handle arrays, perform complex mathematical operations, and seamlessly integrate with other libraries solidifies its position as the cornerstone of numerical computing in Python."
      ],
      "metadata": {
        "id": "KmcD67uM1-KP"
      }
    },
    {
      "cell_type": "markdown",
      "source": [
        "2.  How does broadcasting work in NumPy?\n",
        "\n",
        "Ans - In NumPy, broadcasting allows element-wise operations on arrays of different shapes by implicitly \"expanding\" the smaller array to match the larger array's shape. This expansion happens according to specific rules, allowing for efficient vectorization and avoiding explicit looping in many cases.\n",
        "\n",
        "Broadcasting Rules:\n",
        "\n",
        "1. Dimension Padding:\n",
        "If the arrays have different numbers of dimensions, the smaller array is padded with ones on the left side until the number of dimensions matches the larger array.\n",
        "\n",
        "2. Dimension Compatibility:\n",
        "Two dimensions are considered compatible if they are equal or if one of them is 1.\n",
        "\n",
        "3. Stretch and Repeat:\n",
        "When a dimension is 1 in one array and larger in the other, NumPy \"stretches\" or repeats the value of the 1-sized dimension to match the other array's size.\n",
        "\n",
        "4. Incompatible Dimensions:\n",
        "If in any dimension, the sizes are unequal and neither is 1, then an error is raised."
      ],
      "metadata": {
        "id": "ErcVwOr52aN7"
      }
    },
    {
      "cell_type": "markdown",
      "source": [
        "3. Wat is pandas Dataframe?\n",
        "\n",
        "Ans - pandas DataFrame is a way to represent and work with tabular data. It can be seen as a table that organizes data into rows and columns, making it a two-dimensional data structure. A DataFrame can be created from scratch, or you can use other data structures, like NumPy arrays."
      ],
      "metadata": {
        "id": "jJIuc1aD2z7j"
      }
    },
    {
      "cell_type": "markdown",
      "source": [
        "4. Explain the use of the groupby() method in Pandas.\n",
        "\n",
        "Ans - At this stage, we call the pandas DataFrame. groupby() function. We use it to split the data into groups based on predefined criteria, along rows (by default, axis=0 ), or columns ( axis=1 ). In other words, this function maps the labels to the names of the groups."
      ],
      "metadata": {
        "id": "rOr2UrjU3Gew"
      }
    },
    {
      "cell_type": "markdown",
      "source": [
        "5.  Why is Seaborn preferred for statistical visualizations?\n",
        "\n",
        "Ans - It provides a high-level interface for creating informative and attractive statistical graphics. Seaborn has several advantages over Matplotlib, including: Default style: Seaborn comes with several built-in themes and color palettes that make it easy to create visually appealing plots without much customization."
      ],
      "metadata": {
        "id": "0r5GnicJ3XJQ"
      }
    },
    {
      "cell_type": "markdown",
      "source": [
        "6. What are the differences between NumPy arrays and Python lists?\n",
        "\n",
        "Ans - Numpy Array\n",
        "\n",
        "1. Type Homogeneity - Elements must be of the same data type (e.g., all floats, all ints)\n",
        "\n",
        "2. Performance - Much faster for numerical operations due to internal optimizations and contiguous memory storage.\n",
        "\n",
        "3. Memory Usage - More efficient, as data is stored in a compact and consistent manner\n",
        "\n",
        "4. Functionality - Supports powerful vectorized operations, broadcasting, and a wide range of mathematical functions\n",
        "\n",
        "5. In-place operations - Supports fast in-place operations\n",
        "\n",
        "Python Lists\n",
        "\n",
        "1. Type Homogeneity - Elements can be of different types (e.g., mix of ints, strings, etc.)\n",
        "\n",
        "2. Performance - Slower for large numerical operations.\n",
        "\n",
        "3. Memory Usage - Less efficient, more overhead for each element\n",
        "\n",
        "4. Functionality - Requires loops or comprehensions for element-wise operations\n",
        "\n",
        "5. In-place operations - In-place changes typically require loops or helper functions"
      ],
      "metadata": {
        "id": "a-b5BYPV3tKn"
      }
    },
    {
      "cell_type": "markdown",
      "source": [
        "7. What is a heatmap, and when should it be used?\n",
        "\n",
        "Ans - A heatmap in Python is a visual representation of data using color to indicate the magnitude or density of values within a matrix. It's used when you want to quickly identify patterns, correlations, and anomalies in your data by visually representing relationships between two variables. This is particularly helpful for large datasets or complex relationships where traditional tables might be too dense or difficult to interpret."
      ],
      "metadata": {
        "id": "lH2eGrRz5c5l"
      }
    },
    {
      "cell_type": "markdown",
      "source": [
        "8. What does the term “vectorized operation” mean in NumPy?\n",
        "\n",
        "Ans - Vectorized operations in NumPy enable the use of efficient, pre-compiled functions and mathematical operations on NumPy arrays and data sequences. Vectorization is a method of performing array operations without the use of for loops."
      ],
      "metadata": {
        "id": "BThFaMCa5qlY"
      }
    },
    {
      "cell_type": "markdown",
      "source": [
        "9. How does Matplotlib differ from Plotly?\n",
        "\n",
        "Ans - Matplotlib and Plotly are both powerful Python libraries for data visualization, but they differ significantly in their focus and capabilities. Matplotlib excels at creating static, highly customizable plots suitable for publications and reports. Plotly, on the other hand, is designed for creating interactive web-based visualizations and dashboards, offering ease of use and a wider range of chart types.\n",
        "\n",
        "Key Differences:\n",
        "\n",
        "-> Static vs. Interactive:\n",
        "Matplotlib primarily focuses on static plots, while Plotly is built for interactive visualizations.\n",
        "\n",
        "-> Customization:\n",
        "Matplotlib offers extensive customization options, allowing for precise control over every aspect of the plot. Plotly provides a more streamlined approach to customization, with a focus on ease of use.\n",
        "\n",
        "-> Code Complexity:\n",
        "Creating plots with Matplotlib often requires more lines of code compared to Plotly, especially for more complex charts."
      ],
      "metadata": {
        "id": "RUzZXfdg53eU"
      }
    },
    {
      "cell_type": "markdown",
      "source": [
        "10. What is the significance of hierarchical indexing in Panda?\n",
        "\n",
        "Ans - Hierarchical Indexing, also known as MultiIndexing, is a powerful feature in Pandas that allows you to have multiple levels of indexing on an axis (row or column). This capability is particularly useful when dealing with high-dimensional data."
      ],
      "metadata": {
        "id": "heXiP2du6SEC"
      }
    },
    {
      "cell_type": "markdown",
      "source": [
        "11.  What is the role of Seaborn's pairplot() function?\n",
        "\n",
        "Ans - Seaborn's pairplot() function generates a grid of plots showing the pairwise relationships between variables in a dataset. It's a quick way to visualize the distribution of individual variables and their relationships with each other, useful for exploratory data analysis\n",
        "\n"
      ],
      "metadata": {
        "id": "3eU_iHn36bhe"
      }
    },
    {
      "cell_type": "markdown",
      "source": [
        "12. What is the purpose of the describe() function in Pandas?\n",
        "\n",
        "Ans - The describe() function in Pandas Python is used to generate descriptive statistics of a DataFrame. It provides a concise summary of key statistical information, including the count, mean, standard deviation, minimum, percentiles (25th, 50th, 75th), and maximum values for each numeric column in the DataFrame. It also handles non-numeric data, like objects and categorical data, offering relevant statistics like the count, unique values, top value, and frequency.\n"
      ],
      "metadata": {
        "id": "ZyVcnyHs6nkZ"
      }
    },
    {
      "cell_type": "markdown",
      "source": [
        "13.  Why is handling missing data important in Pandas?\n",
        "\n",
        "Ans - Handling missing data in Pandas is crucial for ensuring the reliability and accuracy of data analysis and modeling. Missing values, often represented as NaN (Not a Number), can lead to biased results, inaccurate statistics, and errors in machine learning models. Pandas provides tools like dropna() and fillna() to effectively address these issues."
      ],
      "metadata": {
        "id": "-2myyU6l632w"
      }
    },
    {
      "cell_type": "markdown",
      "source": [
        "14. What are the benefits of using Plotly for data visualization?\n",
        "\n",
        "Ans - Plotly offers several benefits for data visualization in Python, including its interactive nature, ability to create a wide variety of charts, ease of use, and customizable features.\n",
        "\n",
        "-> Interactive Visualizations:\n",
        "Plotly allows for zooming, panning, and hovering over data points to reveal additional information, making data exploration more intuitive and engaging.\n",
        "\n",
        "-> Variety of Charts:\n",
        "It supports a wide range of chart types, from basic bar charts to complex 3D maps and interactive dashboards.\n",
        "\n",
        "-> Ease of Use:\n",
        "Plotly's Python API is designed to be user-friendly, especially the Plotly Express interface, which makes creating charts with minimal code possible.\n",
        "\n",
        "-> Customization:\n",
        "Plotly allows for fine-tuning of colors, fonts, layouts, and other aspects of the charts to create visually appealing and informative visualizations.\n",
        "\n",
        "-> Web-based and Offline:\n",
        "Plotly visualizations can be easily embedded in web applications or saved as standalone HTML files for offline viewing.\n",
        "\n",
        "-> Integration with Dash:\n",
        "Plotly integrates seamlessly with Dash, a Python framework for building web applications, allowing users to create interactive and data-driven dashboards.\n",
        "\n",
        "->\n",
        "Community Support:\n",
        "Plotly has a strong and active community that provides support and resources for users.\n",
        "\n",
        "-> Versatility:\n",
        "Plotly can be used with various programming languages, including Python, R, and JavaScript, making it suitable for diverse projects."
      ],
      "metadata": {
        "id": "lI4ZxKiX7Dyo"
      }
    },
    {
      "cell_type": "markdown",
      "source": [
        "15.  How does NumPy handle multidimensional arrays?\n",
        "\n",
        "Ans - NumPy handles multidimensional arrays using its core data structure: the ndarray (n-dimensional array). This structure allows for efficient storage and manipulation of arrays of any dimension — from simple 1D vectors to complex n-dimensional matrices.\n",
        "\n",
        "1. Creating Multidimensional Arrays -\n",
        "You can create arrays using functions like np.array(), np.zeros(), np.ones(), np.empty(), or np.arange() combined with .reshape()."
      ],
      "metadata": {
        "id": "7WFkfUd_7kRm"
      }
    },
    {
      "cell_type": "code",
      "source": [
        "import numpy as np\n",
        "\n",
        "# 2D array (matrix)\n",
        "arr_2d = np.array([[1, 2, 3], [4, 5, 6]])\n",
        "\n",
        "# 3D array\n",
        "arr_3d = np.array([\n",
        "    [[1, 2], [3, 4]],\n",
        "    [[5, 6], [7, 8]]\n",
        "])\n"
      ],
      "metadata": {
        "id": "GOjovAL18Jir"
      },
      "execution_count": 2,
      "outputs": []
    },
    {
      "cell_type": "markdown",
      "source": [
        "2. Array Attributes -\n",
        "\n",
        "-> ndim: Number of dimensions\n",
        "\n",
        "-> shape: Tuple indicating size along each dimension\n",
        "\n",
        "-> size: Total number of elements\n",
        "\n",
        "-> dtype: Data type of elements"
      ],
      "metadata": {
        "id": "ziypsFCw8QJ0"
      }
    },
    {
      "cell_type": "code",
      "source": [
        "print(arr_2d.ndim)   # 2\n",
        "print(arr_3d.shape)  # (2, 2, 2)\n"
      ],
      "metadata": {
        "colab": {
          "base_uri": "https://localhost:8080/"
        },
        "id": "v7tw09_A8a5t",
        "outputId": "9b317360-0b82-481b-ba03-9a29efe5bd7b"
      },
      "execution_count": 3,
      "outputs": [
        {
          "output_type": "stream",
          "name": "stdout",
          "text": [
            "2\n",
            "(2, 2, 2)\n"
          ]
        }
      ]
    },
    {
      "cell_type": "markdown",
      "source": [
        "3. Indexing and Slicing -\n",
        "NumPy supports advanced slicing and indexing, including slicing across multiple dimensions."
      ],
      "metadata": {
        "id": "y4Cmu-fI8frD"
      }
    },
    {
      "cell_type": "code",
      "source": [
        "print(arr_2d[1, 2])  # Element in 2nd row, 3rd column\n",
        "print(arr_3d[0, 1, 1])  # 4\n"
      ],
      "metadata": {
        "colab": {
          "base_uri": "https://localhost:8080/"
        },
        "id": "XiUbs2m98hld",
        "outputId": "02029469-5da6-4620-bd4c-c19ce9dd3698"
      },
      "execution_count": 4,
      "outputs": [
        {
          "output_type": "stream",
          "name": "stdout",
          "text": [
            "6\n",
            "4\n"
          ]
        }
      ]
    },
    {
      "cell_type": "markdown",
      "source": [
        "4. Broadcasting -\n",
        "NumPy supports broadcasting, which allows operations between arrays of different shapes, by expanding one to match the other (when possible)."
      ],
      "metadata": {
        "id": "0cfP0Lga8j8V"
      }
    },
    {
      "cell_type": "code",
      "source": [
        "a = np.array([[1], [2], [3]])\n",
        "b = np.array([10, 20, 30])\n",
        "print(a + b)\n"
      ],
      "metadata": {
        "colab": {
          "base_uri": "https://localhost:8080/"
        },
        "id": "R8ZTLk338pUY",
        "outputId": "8648262e-dfda-4055-ca20-7337ac831e3a"
      },
      "execution_count": 5,
      "outputs": [
        {
          "output_type": "stream",
          "name": "stdout",
          "text": [
            "[[11 21 31]\n",
            " [12 22 32]\n",
            " [13 23 33]]\n"
          ]
        }
      ]
    },
    {
      "cell_type": "markdown",
      "source": [
        "5. Operations and Methods -\n",
        "Element-wise operations are fast and intuitive:"
      ],
      "metadata": {
        "id": "v6ppN1kX8rnn"
      }
    },
    {
      "cell_type": "code",
      "source": [
        "result = arr_2d * 2  # Multiplies each element by 2\n"
      ],
      "metadata": {
        "id": "Bpv2XmU-8wyQ"
      },
      "execution_count": 6,
      "outputs": []
    },
    {
      "cell_type": "markdown",
      "source": [
        "Functions like np.sum(), np.mean(), etc., can be applied across specific axes:"
      ],
      "metadata": {
        "id": "byE5LBIX8zeb"
      }
    },
    {
      "cell_type": "code",
      "source": [
        "np.sum(arr_2d, axis=0)  # Column-wise sum\n",
        "np.sum(arr_2d, axis=1)  # Row-wise sum\n"
      ],
      "metadata": {
        "colab": {
          "base_uri": "https://localhost:8080/"
        },
        "id": "S14xeRir817t",
        "outputId": "6cf5c7e6-5c74-473b-a7f0-3eb3aeff07a8"
      },
      "execution_count": 7,
      "outputs": [
        {
          "output_type": "execute_result",
          "data": {
            "text/plain": [
              "array([ 6, 15])"
            ]
          },
          "metadata": {},
          "execution_count": 7
        }
      ]
    },
    {
      "cell_type": "markdown",
      "source": [
        "6. Performance  -\n",
        "NumPy arrays are stored in contiguous memory and use C-level operations, making them significantly faster than native Python lists for numerical computation.\n",
        "\n"
      ],
      "metadata": {
        "id": "hDDA453S84xm"
      }
    },
    {
      "cell_type": "markdown",
      "source": [
        "16.  What is the role of Bokeh in data visualization?\n",
        "\n",
        "Ans - Bokeh is a Python library primarily used for creating interactive and dynamic visualizations, particularly for modern web browsers. It allows users to build various charts, plots, and even dashboards, often with features like zoom, pan, and hover interactions. Unlike libraries like Matplotlib that render plots statically, Bokeh uses HTML and JavaScript, enabling interactive and dynamic visualizations suitable for web applications and dashboards."
      ],
      "metadata": {
        "id": "AIR-oo0-8-xE"
      }
    },
    {
      "cell_type": "markdown",
      "source": [
        "17.  Explain the difference between apply() and map() in Pandas.\n",
        "\n",
        "Ans - map' applies a function to each element of a series and returns a new series with the function applied. Often used when a transformation or substitution is needed. 'apply' can be used on both Series(Element-wise) and DataFrames(Rows or Columns), returns a new Dataframe or series."
      ],
      "metadata": {
        "id": "a5HcgciP9MN4"
      }
    },
    {
      "cell_type": "markdown",
      "source": [
        "18.  What are some advanced features of NumPy?\n",
        "\n",
        "Ans -\n",
        "1. Advanced Indexing:\n",
        "\n",
        "-> NumPy provides powerful ways to access and manipulate array elements beyond simple slicing.\n",
        "\n",
        "-> Boolean Masking: Selecting elements based on conditions.\n",
        "\n",
        "-> Fancy Indexing: Using arrays of indices to select elements.\n",
        "\n",
        "-> Indexing with np.newaxis: Creating new dimensions for broadcasting.\n",
        "\n",
        "2. Broadcasting:\n",
        "\n",
        "->\n",
        "A mechanism that allows NumPy to perform operations on arrays of different shapes without explicitly reshaping them.\n",
        "\n",
        "-> It automatically aligns the smaller array with the larger one to enable element-wise operations.\n",
        "\n",
        "3. Universal Functions (ufuncs):\n",
        "\n",
        "-> Functions that operate element-wise on arrays.\n",
        "\n",
        "-> Ufuncs are highly optimized for speed, especially when performing mathematical operations on large arrays.\n",
        "\n",
        "-> Examples include arithmetic operations, trigonometric functions, and many others\n",
        "\n",
        "4.  Linear Algebra:\n",
        "\n",
        "-> NumPy offers a comprehensive set of linear algebra functions for working with matrices and solving linear equations.\n",
        "\n",
        "-> These functions are crucial for various scientific and data analysis applications\n",
        "\n",
        "5.  Data Type Manipulation:\n",
        "\n",
        "-> NumPy allows for explicit control over data types, including casting and re-interpreting data.\n",
        "\n",
        "-> Understanding data types is crucial for efficient memory management and data handling."
      ],
      "metadata": {
        "id": "thIFNW1e9Z9O"
      }
    },
    {
      "cell_type": "markdown",
      "source": [
        "19.  How does Pandas simplify time series analysis?\n",
        "\n",
        "Ans -"
      ],
      "metadata": {
        "id": "s55yPw1Z-iMq"
      }
    },
    {
      "cell_type": "markdown",
      "source": [
        "20.  What is the role of a pivot table in Pandas?\n",
        "\n",
        "Ans - It allows you to restructure a DataFrame by turning rows into columns and columns into rows based on a specified index column, a specified columns column, and a specified values column. This creates a summary table of the data that is easy to read and analyze."
      ],
      "metadata": {
        "id": "XkorkmSjZjEt"
      }
    },
    {
      "cell_type": "markdown",
      "source": [
        "21.  Why is NumPy's array slicing faster than Python's list slicing?\n",
        "\n",
        "Ans - This leverages compiled C code under the hood, making computations much faster. Efficient Memory Usage: NumPy arrays are more memory-efficient than lists because they store elements of the same data type in contiguous memory locations. Lists, by contrast, can hold objects of different types, requiring more overhead.\n",
        "\n",
        "Since the items are all grouped by category, you can quickly find a book without having to search through many boxes. This is why NumPy arrays are faster than native Python lists in many operations."
      ],
      "metadata": {
        "id": "ytfGRi4BZ26K"
      }
    },
    {
      "cell_type": "markdown",
      "source": [
        "22. What are some common use cases for Seaborn?\n",
        "\n",
        "Ans - Use Cases\n",
        "\n",
        "1.  Exploratory Data Analysis (EDA)\n",
        "\n",
        "-> Understanding Data Distributions:\n",
        "Seaborn provides various plots for visualizing the distribution of single variables, such as histograms, density plots, and violin plots.\n",
        "\n",
        "-> Identifying Relationships:\n",
        "It offers tools like scatter plots, pair plots, and heatmaps to explore relationships between two or more variables.\n",
        "\n",
        "-> Quick Insights:\n",
        "Seaborn's intuitive API allows users to quickly generate various plots to gain initial insights into the data.\n",
        "\n",
        "2. Statistical Analysis\n",
        "\n",
        "-> Regression Plots:\n",
        "Seaborn's regression plots can help visualize the relationship between two variables, including linear, polynomial, and other regression models.\n",
        "\n",
        "-> Correlation Heatmaps:\n",
        "Heatmaps are useful for visualizing the correlation matrix of a dataset, helping identify strong and weak correlations between variables.\n",
        "\n",
        "-> Statistical Tests:\n",
        "Seaborn can be used to visualize results of statistical tests, such as ANOVA or t-tests.\n",
        "\n",
        "3. Machine Learning\n",
        "\n",
        "-> Model Performance:\n",
        "Seaborn can be used to visualize model performance metrics like confusion matrices, ROC curves, and precision-recall curves.\n",
        "\n",
        "-> Feature Importance:\n",
        "Seaborn can help visualize the importance of different features in a machine learning model.\n",
        "\n",
        "-> Data Preprocessing:\n",
        "Seaborn can be used to visualize data preprocessing steps, such as scaling, transformation, or feature engineering."
      ],
      "metadata": {
        "id": "sA0OY2Ucasc9"
      }
    },
    {
      "cell_type": "markdown",
      "source": [
        "# PRACTICAL QUESTIONS\n",
        "\n",
        "1. How do you create a 2D NumPy array and calculate the sum of each row?"
      ],
      "metadata": {
        "id": "ySmncqGibxGl"
      }
    },
    {
      "cell_type": "code",
      "source": [
        "import numpy as np\n",
        "\n",
        "# Step 1: Create a 2D NumPy array\n",
        "array_2d = np.array([[1, 2, 3],\n",
        "                     [4, 5, 6],\n",
        "                     [7, 8, 9]])\n",
        "\n",
        "# Step 2: Calculate the sum of each row\n",
        "row_sums = np.sum(array_2d, axis=1)\n",
        "\n",
        "# Print the results\n",
        "print(\"2D Array:\")\n",
        "print(array_2d)\n",
        "print(\"Sum of each row:\")\n",
        "print(row_sums)"
      ],
      "metadata": {
        "colab": {
          "base_uri": "https://localhost:8080/"
        },
        "id": "IAfaUN7nb682",
        "outputId": "e469dd6f-e9c5-419a-a891-b185670d2c1a"
      },
      "execution_count": 1,
      "outputs": [
        {
          "output_type": "stream",
          "name": "stdout",
          "text": [
            "2D Array:\n",
            "[[1 2 3]\n",
            " [4 5 6]\n",
            " [7 8 9]]\n",
            "Sum of each row:\n",
            "[ 6 15 24]\n"
          ]
        }
      ]
    },
    {
      "cell_type": "markdown",
      "source": [
        "2. Write a Pandas script to find the mean of a specific column in a DataFrame."
      ],
      "metadata": {
        "id": "4nA0fTJWPd6r"
      }
    },
    {
      "cell_type": "code",
      "source": [
        "import pandas as pd\n",
        "\n",
        "# Step 1: Create a DataFrame\n",
        "data = {\n",
        "    'Name': ['Alice', 'Bob', 'Charlie', 'David'],\n",
        "    'Age': [24, 30, 22, 35],\n",
        "    'Salary': [50000, 60000, 55000, 70000]\n",
        "}\n",
        "\n",
        "df = pd.DataFrame(data)\n",
        "\n",
        "# Step 2: Calculate the mean of the 'Age' column\n",
        "mean_age = df['Age'].mean()\n",
        "\n",
        "# Print the results\n",
        "print(\"DataFrame:\")\n",
        "print(df)\n",
        "print(\"\\nMean of the 'Age' column:\")\n",
        "print(mean_age)"
      ],
      "metadata": {
        "colab": {
          "base_uri": "https://localhost:8080/"
        },
        "id": "oVb9mW4PPluK",
        "outputId": "8b437173-6ed9-400f-8d7b-eb4155a92939"
      },
      "execution_count": 2,
      "outputs": [
        {
          "output_type": "stream",
          "name": "stdout",
          "text": [
            "DataFrame:\n",
            "      Name  Age  Salary\n",
            "0    Alice   24   50000\n",
            "1      Bob   30   60000\n",
            "2  Charlie   22   55000\n",
            "3    David   35   70000\n",
            "\n",
            "Mean of the 'Age' column:\n",
            "27.75\n"
          ]
        }
      ]
    },
    {
      "cell_type": "markdown",
      "source": [
        "3. Create a scatter plot using Matplotlib."
      ],
      "metadata": {
        "id": "Jnby0eqXPtQf"
      }
    },
    {
      "cell_type": "code",
      "source": [
        "import matplotlib.pyplot as plt\n",
        "import numpy as np\n",
        "\n",
        "# Step 1: Generate data\n",
        "# Create random data for x and y\n",
        "np.random.seed(0)  # For reproducibility\n",
        "x = np.random.rand(50)  # 50 random points for x\n",
        "y = np.random.rand(50)  # 50 random points for y\n",
        "\n",
        "# Step 2: Create a scatter plot\n",
        "plt.scatter(x, y, color='blue', marker='o', label='Data Points')\n",
        "\n",
        "# Step 3: Add labels and title\n",
        "plt.xlabel('X-axis Label')\n",
        "plt.ylabel('Y-axis Label')\n",
        "plt.title('Scatter Plot Example')\n",
        "plt.legend()\n",
        "\n",
        "# Step 4: Show the plot\n",
        "plt.show()"
      ],
      "metadata": {
        "colab": {
          "base_uri": "https://localhost:8080/",
          "height": 472
        },
        "id": "xcgmEUo8PxU-",
        "outputId": "559b05ed-5077-49f8-fde8-e9c28ae83d1c"
      },
      "execution_count": 3,
      "outputs": [
        {
          "output_type": "display_data",
          "data": {
            "text/plain": [
              "<Figure size 640x480 with 1 Axes>"
            ],
            "image/png": "[encoded data removed]"
          },
          "metadata": {}
        }
      ]
    },
    {
      "cell_type": "markdown",
      "source": [
        "4. How do you calculate the correlation matrix using Seaborn and visualize it with a heatmap?"
      ],
      "metadata": {
        "id": "ppVPfRYhP5Fw"
      }
    },
    {
      "cell_type": "code",
      "source": [
        "import pandas as pd\n",
        "import matplotlib.pyplot as plt\n",
        "import seaborn as sns\n",
        "\n",
        "# Step 1: Load dataset\n",
        "# Replace 'path_to_your_dataset.csv' with the actual path to your CSV file\n",
        "# Download the iris dataset if it's not available locally\n",
        "!wget https://raw.githubusercontent.com/mwaskom/seaborn-data/master/iris.csv\n",
        "\n",
        "# Ensure you load the correct path to the downloaded or existing dataset\n",
        "# If downloaded, then it should be iris.csv\n",
        "# If available in another folder, specify the complete path\n",
        "# Example: data = pd.read_csv(\"/path/to/your/iris.csv\")\n",
        "data = pd.read_csv(\"iris.csv\")  # Example using the 'iris' dataset\n",
        "\n",
        "# Step 2: Compute correlation matrix\n",
        "correlation_matrix = data.corr(numeric_only=True)\n",
        "\n",
        "# Step 3: Create heatmap\n",
        "plt.figure(figsize=(10, 8))  # Set the figure size\n",
        "sns.heatmap(correlation_matrix, cmap='coolwarm', annot=True, fmt=\".2f\", square=True)\n",
        "\n",
        "# Step 4: Display the heatmap\n",
        "plt.title('Correlation Heatmap')\n",
        "plt.show()"
      ],
      "metadata": {
        "colab": {
          "base_uri": "https://localhost:8080/",
          "height": 890
        },
        "id": "kd98_RZhQgKC",
        "outputId": "d509b586-7585-4708-a465-1a4268fe8f75"
      },
      "execution_count": 6,
      "outputs": [
        {
          "output_type": "stream",
          "name": "stdout",
          "text": [
            "--2025-04-17 19:37:59--  https://raw.githubusercontent.com/mwaskom/seaborn-data/master/iris.csv\n",
            "Resolving raw.githubusercontent.com (raw.githubusercontent.com)... 185.199.108.133, 185.199.109.133, 185.199.110.133, ...\n",
            "Connecting to raw.githubusercontent.com (raw.githubusercontent.com)|185.199.108.133|:443... connected.\n",
            "HTTP request sent, awaiting response... 200 OK\n",
            "Length: 3858 (3.8K) [text/plain]\n",
            "Saving to: ‘iris.csv’\n",
            "\n",
            "\riris.csv              0%[                    ]       0  --.-KB/s               \riris.csv            100%[===================>]   3.77K  --.-KB/s    in 0s      \n",
            "\n",
            "2025-04-17 19:38:00 (55.5 MB/s) - ‘iris.csv’ saved [3858/3858]\n",
            "\n"
          ]
        },
        {
          "output_type": "display_data",
          "data": {
            "text/plain": [
              "<Figure size 1000x800 with 2 Axes>"
            ],
            "image/png": "[encoded data removed]"
          },
          "metadata": {}
        }
      ]
    },
    {
      "cell_type": "markdown",
      "source": [
        "5. Generate a bar plot using Plotly."
      ],
      "metadata": {
        "id": "WYZh5qN0Qp0c"
      }
    },
    {
      "cell_type": "code",
      "source": [
        "import plotly.express as px\n",
        "import pandas as pd\n",
        "\n",
        "# Step 1: Prepare your data\n",
        "data = {\n",
        "    'Fruits': ['Apples', 'Bananas', 'Cherries', 'Dates'],\n",
        "    'Quantity': [10, 15, 7, 5]\n",
        "}\n",
        "\n",
        "df = pd.DataFrame(data)\n",
        "\n",
        "# Step 2: Create a bar plot\n",
        "fig = px.bar(df, x='Fruits', y='Quantity', title='Fruit Quantity Bar Plot',\n",
        "             labels={'Fruits': 'Type of Fruit', 'Quantity': 'Number of Fruits'})\n",
        "\n",
        "# Step 3: Show the plot\n",
        "fig.show()"
      ],
      "metadata": {
        "colab": {
          "base_uri": "https://localhost:8080/",
          "height": 542
        },
        "id": "OEPbYoaSQvss",
        "outputId": "50382299-238d-40b8-ba63-8a6a067986b3"
      },
      "execution_count": 7,
      "outputs": [
        {
          "output_type": "display_data",
          "data": {
            "text/html": [
              "<html>\n",
              "<head><meta charset=\"utf-8\" /></head>\n",
              "<body>\n",
              "    <div>            <script src=\"https://cdnjs.cloudflare.com/ajax/libs/mathjax/2.7.5/MathJax.js?config=TeX-AMS-MML_SVG\"></script><script type=\"text/javascript\">if (window.MathJax && window.MathJax.Hub && window.MathJax.Hub.Config) {window.MathJax.Hub.Config({SVG: {font: \"STIX-Web\"}});}</script>                <script type=\"text/javascript\">window.PlotlyConfig = {MathJaxConfig: 'local'};</script>\n",
              "        <script charset=\"utf-8\" src=\"https://cdn.plot.ly/plotly-2.35.2.min.js\"></script>                <div id=\"7d51dd29-a098-406a-9165-d4ff74e4b17c\" class=\"plotly-graph-div\" style=\"height:525px; width:100%;\"></div>            <script type=\"text/javascript\">                                    window.PLOTLYENV=window.PLOTLYENV || {};                                    if (document.getElementById(\"7d51dd29-a098-406a-9165-d4ff74e4b17c\")) {                    Plotly.newPlot(                        \"7d51dd29-a098-406a-9165-d4ff74e4b17c\",                        [{\"alignmentgroup\":\"True\",\"hovertemplate\":\"Type of Fruit=%{x}\\u003cbr\\u003eNumber of Fruits=%{y}\\u003cextra\\u003e\\u003c\\u002fextra\\u003e\",\"legendgroup\":\"\",\"marker\":{\"color\":\"#636efa\",\"pattern\":{\"shape\":\"\"}},\"name\":\"\",\"offsetgroup\":\"\",\"orientation\":\"v\",\"showlegend\":false,\"textposition\":\"auto\",\"x\":[\"Apples\",\"Bananas\",\"Cherries\",\"Dates\"],\"xaxis\":\"x\",\"y\":[10,15,7,5],\"yaxis\":\"y\",\"type\":\"bar\"}],                        {\"template\":{\"data\":{\"histogram2dcontour\":[{\"type\":\"histogram2dcontour\",\"colorbar\":{\"outlinewidth\":0,\"ticks\":\"\"},\"colorscale\":[[0.0,\"#0d0887\"],[0.1111111111111111,\"#46039f\"],[0.2222222222222222,\"#7201a8\"],[0.3333333333333333,\"#9c179e\"],[0.4444444444444444,\"#bd3786\"],[0.5555555555555556,\"#d8576b\"],[0.6666666666666666,\"#ed7953\"],[0.7777777777777778,\"#fb9f3a\"],[0.8888888888888888,\"#fdca26\"],[1.0,\"#f0f921\"]]}],\"choropleth\":[{\"type\":\"choropleth\",\"colorbar\":{\"outlinewidth\":0,\"ticks\":\"\"}}],\"histogram2d\":[{\"type\":\"histogram2d\",\"colorbar\":{\"outlinewidth\":0,\"ticks\":\"\"},\"colorscale\":[[0.0,\"#0d0887\"],[0.1111111111111111,\"#46039f\"],[0.2222222222222222,\"#7201a8\"],[0.3333333333333333,\"#9c179e\"],[0.4444444444444444,\"#bd3786\"],[0.5555555555555556,\"#d8576b\"],[0.6666666666666666,\"#ed7953\"],[0.7777777777777778,\"#fb9f3a\"],[0.8888888888888888,\"#fdca26\"],[1.0,\"#f0f921\"]]}],\"heatmap\":[{\"type\":\"heatmap\",\"colorbar\":{\"outlinewidth\":0,\"ticks\":\"\"},\"colorscale\":[[0.0,\"#0d0887\"],[0.1111111111111111,\"#46039f\"],[0.2222222222222222,\"#7201a8\"],[0.3333333333333333,\"#9c179e\"],[0.4444444444444444,\"#bd3786\"],[0.5555555555555556,\"#d8576b\"],[0.6666666666666666,\"#ed7953\"],[0.7777777777777778,\"#fb9f3a\"],[0.8888888888888888,\"#fdca26\"],[1.0,\"#f0f921\"]]}],\"heatmapgl\":[{\"type\":\"heatmapgl\",\"colorbar\":{\"outlinewidth\":0,\"ticks\":\"\"},\"colorscale\":[[0.0,\"#0d0887\"],[0.1111111111111111,\"#46039f\"],[0.2222222222222222,\"#7201a8\"],[0.3333333333333333,\"#9c179e\"],[0.4444444444444444,\"#bd3786\"],[0.5555555555555556,\"#d8576b\"],[0.6666666666666666,\"#ed7953\"],[0.7777777777777778,\"#fb9f3a\"],[0.8888888888888888,\"#fdca26\"],[1.0,\"#f0f921\"]]}],\"contourcarpet\":[{\"type\":\"contourcarpet\",\"colorbar\":{\"outlinewidth\":0,\"ticks\":\"\"}}],\"contour\":[{\"type\":\"contour\",\"colorbar\":{\"outlinewidth\":0,\"ticks\":\"\"},\"colorscale\":[[0.0,\"#0d0887\"],[0.1111111111111111,\"#46039f\"],[0.2222222222222222,\"#7201a8\"],[0.3333333333333333,\"#9c179e\"],[0.4444444444444444,\"#bd3786\"],[0.5555555555555556,\"#d8576b\"],[0.6666666666666666,\"#ed7953\"],[0.7777777777777778,\"#fb9f3a\"],[0.8888888888888888,\"#fdca26\"],[1.0,\"#f0f921\"]]}],\"surface\":[{\"type\":\"surface\",\"colorbar\":{\"outlinewidth\":0,\"ticks\":\"\"},\"colorscale\":[[0.0,\"#0d0887\"],[0.1111111111111111,\"#46039f\"],[0.2222222222222222,\"#7201a8\"],[0.3333333333333333,\"#9c179e\"],[0.4444444444444444,\"#bd3786\"],[0.5555555555555556,\"#d8576b\"],[0.6666666666666666,\"#ed7953\"],[0.7777777777777778,\"#fb9f3a\"],[0.8888888888888888,\"#fdca26\"],[1.0,\"#f0f921\"]]}],\"mesh3d\":[{\"type\":\"mesh3d\",\"colorbar\":{\"outlinewidth\":0,\"ticks\":\"\"}}],\"scatter\":[{\"fillpattern\":{\"fillmode\":\"overlay\",\"size\":10,\"solidity\":0.2},\"type\":\"scatter\"}],\"parcoords\":[{\"type\":\"parcoords\",\"line\":{\"colorbar\":{\"outlinewidth\":0,\"ticks\":\"\"}}}],\"scatterpolargl\":[{\"type\":\"scatterpolargl\",\"marker\":{\"colorbar\":{\"outlinewidth\":0,\"ticks\":\"\"}}}],\"bar\":[{\"error_x\":{\"color\":\"#2a3f5f\"},\"error_y\":{\"color\":\"#2a3f5f\"},\"marker\":{\"line\":{\"color\":\"#E5ECF6\",\"width\":0.5},\"pattern\":{\"fillmode\":\"overlay\",\"size\":10,\"solidity\":0.2}},\"type\":\"bar\"}],\"scattergeo\":[{\"type\":\"scattergeo\",\"marker\":{\"colorbar\":{\"outlinewidth\":0,\"ticks\":\"\"}}}],\"scatterpolar\":[{\"type\":\"scatterpolar\",\"marker\":{\"colorbar\":{\"outlinewidth\":0,\"ticks\":\"\"}}}],\"histogram\":[{\"marker\":{\"pattern\":{\"fillmode\":\"overlay\",\"size\":10,\"solidity\":0.2}},\"type\":\"histogram\"}],\"scattergl\":[{\"type\":\"scattergl\",\"marker\":{\"colorbar\":{\"outlinewidth\":0,\"ticks\":\"\"}}}],\"scatter3d\":[{\"type\":\"scatter3d\",\"line\":{\"colorbar\":{\"outlinewidth\":0,\"ticks\":\"\"}},\"marker\":{\"colorbar\":{\"outlinewidth\":0,\"ticks\":\"\"}}}],\"scattermapbox\":[{\"type\":\"scattermapbox\",\"marker\":{\"colorbar\":{\"outlinewidth\":0,\"ticks\":\"\"}}}],\"scatterternary\":[{\"type\":\"scatterternary\",\"marker\":{\"colorbar\":{\"outlinewidth\":0,\"ticks\":\"\"}}}],\"scattercarpet\":[{\"type\":\"scattercarpet\",\"marker\":{\"colorbar\":{\"outlinewidth\":0,\"ticks\":\"\"}}}],\"carpet\":[{\"aaxis\":{\"endlinecolor\":\"#2a3f5f\",\"gridcolor\":\"white\",\"linecolor\":\"white\",\"minorgridcolor\":\"white\",\"startlinecolor\":\"#2a3f5f\"},\"baxis\":{\"endlinecolor\":\"#2a3f5f\",\"gridcolor\":\"white\",\"linecolor\":\"white\",\"minorgridcolor\":\"white\",\"startlinecolor\":\"#2a3f5f\"},\"type\":\"carpet\"}],\"table\":[{\"cells\":{\"fill\":{\"color\":\"#EBF0F8\"},\"line\":{\"color\":\"white\"}},\"header\":{\"fill\":{\"color\":\"#C8D4E3\"},\"line\":{\"color\":\"white\"}},\"type\":\"table\"}],\"barpolar\":[{\"marker\":{\"line\":{\"color\":\"#E5ECF6\",\"width\":0.5},\"pattern\":{\"fillmode\":\"overlay\",\"size\":10,\"solidity\":0.2}},\"type\":\"barpolar\"}],\"pie\":[{\"automargin\":true,\"type\":\"pie\"}]},\"layout\":{\"autotypenumbers\":\"strict\",\"colorway\":[\"#636efa\",\"#EF553B\",\"#00cc96\",\"#ab63fa\",\"#FFA15A\",\"#19d3f3\",\"#FF6692\",\"#B6E880\",\"#FF97FF\",\"#FECB52\"],\"font\":{\"color\":\"#2a3f5f\"},\"hovermode\":\"closest\",\"hoverlabel\":{\"align\":\"left\"},\"paper_bgcolor\":\"white\",\"plot_bgcolor\":\"#E5ECF6\",\"polar\":{\"bgcolor\":\"#E5ECF6\",\"angularaxis\":{\"gridcolor\":\"white\",\"linecolor\":\"white\",\"ticks\":\"\"},\"radialaxis\":{\"gridcolor\":\"white\",\"linecolor\":\"white\",\"ticks\":\"\"}},\"ternary\":{\"bgcolor\":\"#E5ECF6\",\"aaxis\":{\"gridcolor\":\"white\",\"linecolor\":\"white\",\"ticks\":\"\"},\"baxis\":{\"gridcolor\":\"white\",\"linecolor\":\"white\",\"ticks\":\"\"},\"caxis\":{\"gridcolor\":\"white\",\"linecolor\":\"white\",\"ticks\":\"\"}},\"coloraxis\":{\"colorbar\":{\"outlinewidth\":0,\"ticks\":\"\"}},\"colorscale\":{\"sequential\":[[0.0,\"#0d0887\"],[0.1111111111111111,\"#46039f\"],[0.2222222222222222,\"#7201a8\"],[0.3333333333333333,\"#9c179e\"],[0.4444444444444444,\"#bd3786\"],[0.5555555555555556,\"#d8576b\"],[0.6666666666666666,\"#ed7953\"],[0.7777777777777778,\"#fb9f3a\"],[0.8888888888888888,\"#fdca26\"],[1.0,\"#f0f921\"]],\"sequentialminus\":[[0.0,\"#0d0887\"],[0.1111111111111111,\"#46039f\"],[0.2222222222222222,\"#7201a8\"],[0.3333333333333333,\"#9c179e\"],[0.4444444444444444,\"#bd3786\"],[0.5555555555555556,\"#d8576b\"],[0.6666666666666666,\"#ed7953\"],[0.7777777777777778,\"#fb9f3a\"],[0.8888888888888888,\"#fdca26\"],[1.0,\"#f0f921\"]],\"diverging\":[[0,\"#8e0152\"],[0.1,\"#c51b7d\"],[0.2,\"#de77ae\"],[0.3,\"#f1b6da\"],[0.4,\"#fde0ef\"],[0.5,\"#f7f7f7\"],[0.6,\"#e6f5d0\"],[0.7,\"#b8e186\"],[0.8,\"#7fbc41\"],[0.9,\"#4d9221\"],[1,\"#276419\"]]},\"xaxis\":{\"gridcolor\":\"white\",\"linecolor\":\"white\",\"ticks\":\"\",\"title\":{\"standoff\":15},\"zerolinecolor\":\"white\",\"automargin\":true,\"zerolinewidth\":2},\"yaxis\":{\"gridcolor\":\"white\",\"linecolor\":\"white\",\"ticks\":\"\",\"title\":{\"standoff\":15},\"zerolinecolor\":\"white\",\"automargin\":true,\"zerolinewidth\":2},\"scene\":{\"xaxis\":{\"backgroundcolor\":\"#E5ECF6\",\"gridcolor\":\"white\",\"linecolor\":\"white\",\"showbackground\":true,\"ticks\":\"\",\"zerolinecolor\":\"white\",\"gridwidth\":2},\"yaxis\":{\"backgroundcolor\":\"#E5ECF6\",\"gridcolor\":\"white\",\"linecolor\":\"white\",\"showbackground\":true,\"ticks\":\"\",\"zerolinecolor\":\"white\",\"gridwidth\":2},\"zaxis\":{\"backgroundcolor\":\"#E5ECF6\",\"gridcolor\":\"white\",\"linecolor\":\"white\",\"showbackground\":true,\"ticks\":\"\",\"zerolinecolor\":\"white\",\"gridwidth\":2}},\"shapedefaults\":{\"line\":{\"color\":\"#2a3f5f\"}},\"annotationdefaults\":{\"arrowcolor\":\"#2a3f5f\",\"arrowhead\":0,\"arrowwidth\":1},\"geo\":{\"bgcolor\":\"white\",\"landcolor\":\"#E5ECF6\",\"subunitcolor\":\"white\",\"showland\":true,\"showlakes\":true,\"lakecolor\":\"white\"},\"title\":{\"x\":0.05},\"mapbox\":{\"style\":\"light\"}}},\"xaxis\":{\"anchor\":\"y\",\"domain\":[0.0,1.0],\"title\":{\"text\":\"Type of Fruit\"}},\"yaxis\":{\"anchor\":\"x\",\"domain\":[0.0,1.0],\"title\":{\"text\":\"Number of Fruits\"}},\"legend\":{\"tracegroupgap\":0},\"title\":{\"text\":\"Fruit Quantity Bar Plot\"},\"barmode\":\"relative\"},                        {\"responsive\": true}                    ).then(function(){\n",
              "                            \n",
              "var gd = document.getElementById('7d51dd29-a098-406a-9165-d4ff74e4b17c');\n",
              "var x = new MutationObserver(function (mutations, observer) {{\n",
              "        var display = window.getComputedStyle(gd).display;\n",
              "        if (!display || display === 'none') {{\n",
              "            console.log([gd, 'removed!']);\n",
              "            Plotly.purge(gd);\n",
              "            observer.disconnect();\n",
              "        }}\n",
              "}});\n",
              "\n",
              "// Listen for the removal of the full notebook cells\n",
              "var notebookContainer = gd.closest('#notebook-container');\n",
              "if (notebookContainer) {{\n",
              "    x.observe(notebookContainer, {childList: true});\n",
              "}}\n",
              "\n",
              "// Listen for the clearing of the current output cell\n",
              "var outputEl = gd.closest('.output');\n",
              "if (outputEl) {{\n",
              "    x.observe(outputEl, {childList: true});\n",
              "}}\n",
              "\n",
              "                        })                };                            </script>        </div>\n",
              "</body>\n",
              "</html>"
            ]
          },
          "metadata": {}
        }
      ]
    },
    {
      "cell_type": "markdown",
      "source": [
        "6. Create a DataFrame and add a new column based on an existing column."
      ],
      "metadata": {
        "id": "XzIn3nJkQ8Il"
      }
    },
    {
      "cell_type": "code",
      "source": [
        "import pandas as pd\n",
        "\n",
        "# Step 1: Create a DataFrame\n",
        "data = {\n",
        "    'Name': ['Alice', 'Bob', 'Charlie', 'David'],\n",
        "    'Age': [24, 30, 22, 35],\n",
        "    'Salary': [50000, 60000, 55000, 70000]\n",
        "}\n",
        "\n",
        "df = pd.DataFrame(data)\n",
        "\n",
        "# Step 2: Add a new column based on an existing column\n",
        "# For example, let's create a new column 'Salary After Tax' which is 80% of the Salary\n",
        "df['Salary After Tax'] = df['Salary'] * 0.8\n",
        "\n",
        "# Print the updated DataFrame\n",
        "print(\"Updated DataFrame:\")\n",
        "print(df)"
      ],
      "metadata": {
        "colab": {
          "base_uri": "https://localhost:8080/"
        },
        "id": "J-HLYqRGRAj2",
        "outputId": "d53ffb23-9e86-44de-bbee-9ef39b82e64e"
      },
      "execution_count": 8,
      "outputs": [
        {
          "output_type": "stream",
          "name": "stdout",
          "text": [
            "Updated DataFrame:\n",
            "      Name  Age  Salary  Salary After Tax\n",
            "0    Alice   24   50000           40000.0\n",
            "1      Bob   30   60000           48000.0\n",
            "2  Charlie   22   55000           44000.0\n",
            "3    David   35   70000           56000.0\n"
          ]
        }
      ]
    },
    {
      "cell_type": "markdown",
      "source": [
        "7. Write a program to perform element-wise multiplication of two NumPy arrays."
      ],
      "metadata": {
        "id": "_MMxxmf2RJF9"
      }
    },
    {
      "cell_type": "code",
      "source": [
        "import numpy as np\n",
        "\n",
        "# Step 1: Create two NumPy arrays\n",
        "array1 = np.array([1, 2, 3, 4])\n",
        "array2 = np.array([5, 6, 7, 8])\n",
        "\n",
        "# Step 2: Perform element-wise multiplication\n",
        "result = array1 * array2\n",
        "\n",
        "# Print the result\n",
        "print(\"Array 1:\", array1)\n",
        "print(\"Array 2:\", array2)\n",
        "print(\"Element-wise multiplication result:\", result)"
      ],
      "metadata": {
        "colab": {
          "base_uri": "https://localhost:8080/"
        },
        "id": "8mBH7cGKROMY",
        "outputId": "ac90ed3b-09cc-46bd-d9de-0c4a45422522"
      },
      "execution_count": 9,
      "outputs": [
        {
          "output_type": "stream",
          "name": "stdout",
          "text": [
            "Array 1: [1 2 3 4]\n",
            "Array 2: [5 6 7 8]\n",
            "Element-wise multiplication result: [ 5 12 21 32]\n"
          ]
        }
      ]
    },
    {
      "cell_type": "markdown",
      "source": [
        "8. Create a line plot with multiple lines using Matplotlib."
      ],
      "metadata": {
        "id": "T1y5OZ54RXyP"
      }
    },
    {
      "cell_type": "code",
      "source": [
        "import matplotlib.pyplot as plt\n",
        "import numpy as np\n",
        "\n",
        "# Step 1: Prepare your data\n",
        "x = np.linspace(0, 10, 100)  # 100 points from 0 to 10\n",
        "\n",
        "# Define multiple lines\n",
        "y1 = np.sin(x)               # First line: sine function\n",
        "y2 = np.cos(x)               # Second line: cosine function\n",
        "y3 = np.tan(x)               # Third line: tangent function (limited to avoid extreme values)\n",
        "\n",
        "# Step 2: Create a line plot with multiple lines\n",
        "plt.figure(figsize=(10, 6))  # Set the figure size\n",
        "\n",
        "plt.plot(x, y1, label='Sine', color='blue')    # Plot sine\n",
        "plt.plot(x, y2, label='Cosine', color='orange') # Plot cosine\n",
        "plt.plot(x, y3, label='Tangent', color='green') # Plot tangent\n",
        "\n",
        "# Step 3: Add labels and title\n",
        "plt.xlabel('X-axis')\n",
        "plt.ylabel('Y-axis')\n",
        "plt.title('Line Plot with Multiple Lines')\n",
        "plt.ylim(-10, 10)  # Limit y-axis for better visibility of tangent\n",
        "plt.axhline(0, color='black',linewidth=0.5, ls='--')  # Add x-axis line\n",
        "plt.axvline(0, color='black',linewidth=0.5, ls='--')  # Add y-axis line\n",
        "\n",
        "# Step 4: Add a legend\n",
        "plt.legend()\n",
        "\n",
        "# Step 5: Show the plot\n",
        "plt.show()"
      ],
      "metadata": {
        "colab": {
          "base_uri": "https://localhost:8080/",
          "height": 564
        },
        "id": "-9EQMbdbRcVb",
        "outputId": "50e353f8-4fd7-432f-ad4d-2daadf4db2d8"
      },
      "execution_count": 10,
      "outputs": [
        {
          "output_type": "display_data",
          "data": {
            "text/plain": [
              "<Figure size 1000x600 with 1 Axes>"
            ],
            "image/png": "[encoded data removed]"
          },
          "metadata": {}
        }
      ]
    },
    {
      "cell_type": "markdown",
      "source": [
        "9.  Generate a Pandas DataFrame and filter rows where a column value is greater than a threshold."
      ],
      "metadata": {
        "id": "YVGinLnlRlFu"
      }
    },
    {
      "cell_type": "code",
      "source": [
        "import pandas as pd\n",
        "\n",
        "# Step 1: Create a DataFrame\n",
        "data = {\n",
        "    'Name': ['Alice', 'Bob', 'Charlie', 'David', 'Eva'],\n",
        "    'Age': [24, 30, 22, 35, 28],\n",
        "    'Salary': [50000, 60000, 55000, 70000, 48000]\n",
        "}\n",
        "\n",
        "df = pd.DataFrame(data)\n",
        "\n",
        "# Step 2: Define a threshold\n",
        "threshold = 30\n",
        "\n",
        "# Step 3: Filter rows where 'Age' is greater than the threshold\n",
        "filtered_df = df[df['Age'] > threshold]\n",
        "\n",
        "# Print the original and filtered DataFrames\n",
        "print(\"Original DataFrame:\")\n",
        "print(df)\n",
        "print(\"\\nFiltered DataFrame (Age > 30):\")\n",
        "print(filtered_df)"
      ],
      "metadata": {
        "colab": {
          "base_uri": "https://localhost:8080/"
        },
        "id": "9SGzsyKRRrYN",
        "outputId": "ea71bc16-e1c5-4b7d-97b2-d9ec3ac6b118"
      },
      "execution_count": 11,
      "outputs": [
        {
          "output_type": "stream",
          "name": "stdout",
          "text": [
            "Original DataFrame:\n",
            "      Name  Age  Salary\n",
            "0    Alice   24   50000\n",
            "1      Bob   30   60000\n",
            "2  Charlie   22   55000\n",
            "3    David   35   70000\n",
            "4      Eva   28   48000\n",
            "\n",
            "Filtered DataFrame (Age > 30):\n",
            "    Name  Age  Salary\n",
            "3  David   35   70000\n"
          ]
        }
      ]
    },
    {
      "cell_type": "markdown",
      "source": [
        "10.  Create a histogram using Seaborn to visualize a distribution."
      ],
      "metadata": {
        "id": "QumGtqpHR5LV"
      }
    },
    {
      "cell_type": "code",
      "source": [
        "import seaborn as sns\n",
        "import matplotlib.pyplot as plt\n",
        "import numpy as np\n",
        "\n",
        "# Step 1: Prepare your data\n",
        "# Generate random data following a normal distribution\n",
        "data = np.random.normal(loc=0, scale=1, size=1000)  # 1000 points with mean=0 and std=1\n",
        "\n",
        "# Step 2: Create a histogram\n",
        "plt.figure(figsize=(10, 6))  # Set the figure size\n",
        "sns.histplot(data, bins=30, kde=True, color='blue', edgecolor='black')\n",
        "\n",
        "# Step 3: Add labels and title\n",
        "plt.xlabel('Value')\n",
        "plt.ylabel('Frequency')\n",
        "plt.title('Histogram of Normally Distributed Data')\n",
        "\n",
        "# Step 4: Show the plot\n",
        "plt.show()"
      ],
      "metadata": {
        "colab": {
          "base_uri": "https://localhost:8080/",
          "height": 564
        },
        "id": "uYW1HYGlR7Sg",
        "outputId": "a2e8da77-4763-4d0e-d6cf-c3c69444d2bd"
      },
      "execution_count": 12,
      "outputs": [
        {
          "output_type": "display_data",
          "data": {
            "text/plain": [
              "<Figure size 1000x600 with 1 Axes>"
            ],
            "image/png": "[encoded data removed]"
          },
          "metadata": {}
        }
      ]
    },
    {
      "cell_type": "markdown",
      "source": [
        "11.  Perform matrix multiplication using NumPy."
      ],
      "metadata": {
        "id": "o6QxfOoXSCL2"
      }
    },
    {
      "cell_type": "code",
      "source": [
        "import numpy as np\n",
        "\n",
        "# Step 1: Create two NumPy arrays (matrices)\n",
        "# Matrix A (2x3)\n",
        "A = np.array([[1, 2, 3],\n",
        "              [4, 5, 6]])\n",
        "\n",
        "# Matrix B (3x2)\n",
        "B = np.array([[7, 8],\n",
        "              [9, 10],\n",
        "              [11, 12]])\n",
        "\n",
        "# Step 2: Perform matrix multiplication\n",
        "# Method 1: Using np.dot()\n",
        "result_dot = np.dot(A, B)\n",
        "\n",
        "# Method 2: Using the @ operator\n",
        "result_at = A @ B\n",
        "\n",
        "# Print the results\n",
        "print(\"Matrix A:\")\n",
        "print(A)\n",
        "print(\"\\nMatrix B:\")\n",
        "print(B)\n",
        "print(\"\\nResult of A dot B (using np.dot()):\")\n",
        "print(result_dot)\n",
        "print(\"\\nResult of A dot B (using @ operator):\")\n",
        "print(result_at)"
      ],
      "metadata": {
        "colab": {
          "base_uri": "https://localhost:8080/"
        },
        "id": "IZlMUOOqSHT3",
        "outputId": "9e7695d6-e8b8-4486-845d-74e2dfbe4724"
      },
      "execution_count": 13,
      "outputs": [
        {
          "output_type": "stream",
          "name": "stdout",
          "text": [
            "Matrix A:\n",
            "[[1 2 3]\n",
            " [4 5 6]]\n",
            "\n",
            "Matrix B:\n",
            "[[ 7  8]\n",
            " [ 9 10]\n",
            " [11 12]]\n",
            "\n",
            "Result of A dot B (using np.dot()):\n",
            "[[ 58  64]\n",
            " [139 154]]\n",
            "\n",
            "Result of A dot B (using @ operator):\n",
            "[[ 58  64]\n",
            " [139 154]]\n"
          ]
        }
      ]
    },
    {
      "cell_type": "markdown",
      "source": [
        "12. Use Pandas to load a CSV file and display its first 5 rows."
      ],
      "metadata": {
        "id": "OwiVhywPSPr0"
      }
    },
    {
      "cell_type": "code",
      "source": [
        "import pandas as pd\n",
        "\n",
        "# Load the CSV file. Update with your file path.\n",
        "df = pd.read_csv('iris.csv') # Example using the iris dataset\n",
        "\n",
        "# Display the first 5 rows\n",
        "print(df.head())"
      ],
      "metadata": {
        "colab": {
          "base_uri": "https://localhost:8080/"
        },
        "id": "oGE2ka09Xyik",
        "outputId": "559867af-a920-4466-ef98-e12f41a0f1ff"
      },
      "execution_count": 25,
      "outputs": [
        {
          "output_type": "stream",
          "name": "stdout",
          "text": [
            "   sepal_length  sepal_width  petal_length  petal_width species\n",
            "0           5.1          3.5           1.4          0.2  setosa\n",
            "1           4.9          3.0           1.4          0.2  setosa\n",
            "2           4.7          3.2           1.3          0.2  setosa\n",
            "3           4.6          3.1           1.5          0.2  setosa\n",
            "4           5.0          3.6           1.4          0.2  setosa\n"
          ]
        }
      ]
    },
    {
      "cell_type": "markdown",
      "source": [
        "13. Create a 3D scatter plot using Plotly."
      ],
      "metadata": {
        "id": "S5a4fkJuV7w6"
      }
    },
    {
      "cell_type": "code",
      "source": [
        "import plotly.graph_objects as go\n",
        "import numpy as np\n",
        "\n",
        "np.random.seed(42)\n",
        "x = np.random.randn(100)\n",
        "y = np.random.randn(100)\n",
        "z = np.random.randn(100)\n",
        "\n",
        "fig = go.Figure(data=[go.Scatter3d(\n",
        "    x=x,\n",
        "    y=y,\n",
        "    z=z,\n",
        "    mode='markers',\n",
        "    marker=dict(\n",
        "        size=6,\n",
        "        color=z,\n",
        "        colorscale='Viridis',\n",
        "        opacity=0.8\n",
        "    )\n",
        ")])\n",
        "\n",
        "fig.update_layout(\n",
        "    title='3D Scatter Plot using Plotly',\n",
        "    scene=dict(\n",
        "        xaxis_title='X Axis',\n",
        "        yaxis_title='Y Axis',\n",
        "        zaxis_title='Z Axis'\n",
        "    )\n",
        ")\n",
        "\n",
        "# Show plot in browser\n",
        "fig.show()\n"
      ],
      "metadata": {
        "colab": {
          "base_uri": "https://localhost:8080/",
          "height": 542
        },
        "id": "PDTYS_XpUU3s",
        "outputId": "2399369f-8d2f-495f-9075-eb97a3a44303"
      },
      "execution_count": 1,
      "outputs": [
        {
          "output_type": "display_data",
          "data": {
            "text/html": [
              "<html>\n",
              "<head><meta charset=\"utf-8\" /></head>\n",
              "<body>\n",
              "    <div>            <script src=\"https://cdnjs.cloudflare.com/ajax/libs/mathjax/2.7.5/MathJax.js?config=TeX-AMS-MML_SVG\"></script><script type=\"text/javascript\">if (window.MathJax && window.MathJax.Hub && window.MathJax.Hub.Config) {window.MathJax.Hub.Config({SVG: {font: \"STIX-Web\"}});}</script>                <script type=\"text/javascript\">window.PlotlyConfig = {MathJaxConfig: 'local'};</script>\n",
              "        <script charset=\"utf-8\" src=\"https://cdn.plot.ly/plotly-2.35.2.min.js\"></script>                <div id=\"ef308627-161a-42c7-ad67-fbf65b49dc09\" class=\"plotly-graph-div\" style=\"height:525px; width:100%;\"></div>            <script type=\"text/javascript\">                                    window.PLOTLYENV=window.PLOTLYENV || {};                                    if (document.getElementById(\"ef308627-161a-42c7-ad67-fbf65b49dc09\")) {                    Plotly.newPlot(                        \"ef308627-161a-42c7-ad67-fbf65b49dc09\",                        [{\"marker\":{\"color\":[0.3577873603482833,0.5607845263682344,1.083051243175277,1.053802052034903,-1.377669367957091,-0.9378250399151228,0.5150352672086598,0.5137859509122088,0.5150476863060479,3.852731490654721,0.570890510693167,1.135565640180599,0.9540017634932023,0.651391251305798,-0.3152692446403456,0.7589692204932674,-0.7728252145375718,-0.23681860674000887,-0.48536354782910346,0.08187413938632256,2.3146585666735087,-1.867265192591748,0.6862601903745135,-1.6127158711896517,-0.47193186578943347,1.088950596967366,0.06428001909546277,-1.0777447779293061,-0.7153037092599682,0.6795977489346758,-0.7303666317171367,0.21645858958197486,0.045571839903813784,-0.6516003476058171,2.1439440893253257,0.6339190223180112,-2.025142586657607,0.18645431476942764,-0.661786464768388,0.852433334796224,-0.7925207384327007,-0.11473644146689901,0.5049872789804571,0.8657551941701215,-1.2002964070557762,-0.3345012358409484,-0.4749453111609562,-0.6533292325737119,1.7654542402810969,0.40498171096095553,-1.2608839543350452,0.9178619470547761,2.1221561970126332,1.0324652605511468,-1.5193699659540134,-0.48423407286625136,1.2669111491866227,-0.7076694656187807,0.44381942814622843,0.7746340534293368,-0.926930471578083,-0.05952535606180008,-3.2412673400690726,-1.0243876413342898,-0.2525681513931603,-1.2477831819648495,1.6324113039316352,-1.4301413779606327,-0.44004448669698376,0.13074057728609134,1.4412732890661155,-1.4358621511794394,1.1631637521549596,0.010233061019587049,-0.9815086510479509,0.46210347426327075,0.19905969557347003,-0.6002168771587947,0.06980208499001891,-0.3853135968617602,0.11351734525124804,0.6621306745210467,1.586016816145352,-1.237815498826849,2.1330333746562666,-1.9520877995225019,-0.15178509503558332,0.5883172064845765,0.28099186773503265,-0.6226995198205938,-0.20812225035727522,-0.4930009346588328,-0.5893647569442115,0.8496020970210246,0.35701548596504734,-0.6929095952606542,0.8995998754332507,0.30729952087660933,0.8128621188389601,0.6296288419236122],\"colorscale\":[[0.0,\"#440154\"],[0.1111111111111111,\"#482878\"],[0.2222222222222222,\"#3e4989\"],[0.3333333333333333,\"#31688e\"],[0.4444444444444444,\"#26828e\"],[0.5555555555555556,\"#1f9e89\"],[0.6666666666666666,\"#35b779\"],[0.7777777777777778,\"#6ece58\"],[0.8888888888888888,\"#b5de2b\"],[1.0,\"#fde725\"]],\"opacity\":0.8,\"size\":6},\"mode\":\"markers\",\"x\":[0.4967141530112327,-0.13826430117118466,0.6476885381006925,1.5230298564080254,-0.23415337472333597,-0.23413695694918055,1.5792128155073915,0.7674347291529088,-0.4694743859349521,0.5425600435859647,-0.46341769281246226,-0.46572975357025687,0.24196227156603412,-1.913280244657798,-1.7249178325130328,-0.5622875292409727,-1.0128311203344238,0.3142473325952739,-0.9080240755212109,-1.4123037013352915,1.465648768921554,-0.22577630048653566,0.06752820468792384,-1.4247481862134568,-0.5443827245251827,0.11092258970986608,-1.1509935774223028,0.37569801834567196,-0.600638689918805,-0.2916937497932768,-0.6017066122293969,1.8522781845089378,-0.013497224737933921,-1.0577109289559004,0.822544912103189,-1.2208436499710222,0.2088635950047554,-1.9596701238797756,-1.3281860488984305,0.19686123586912352,0.7384665799954104,0.1713682811899705,-0.11564828238824053,-0.3011036955892888,-1.4785219903674274,-0.7198442083947086,-0.4606387709597875,1.0571222262189157,0.3436182895684614,-1.763040155362734,0.324083969394795,-0.38508228041631654,-0.6769220003059587,0.6116762888408679,1.030999522495951,0.9312801191161986,-0.8392175232226385,-0.3092123758512146,0.33126343140356396,0.9755451271223592,-0.47917423784528995,-0.18565897666381712,-1.1063349740060282,-1.1962066240806708,0.812525822394198,1.356240028570823,-0.07201012158033385,1.0035328978920242,0.36163602504763415,-0.6451197546051243,0.36139560550841393,1.5380365664659692,-0.03582603910995154,1.5646436558140062,-2.6197451040897444,0.8219025043752238,0.08704706823817122,-0.29900735046586746,0.0917607765355023,-1.9875689146008928,-0.21967188783751193,0.3571125715117464,1.477894044741516,-0.5182702182736474,-0.8084936028931876,-0.5017570435845365,0.9154021177020741,0.32875110965968446,-0.5297602037670388,0.5132674331133561,0.09707754934804039,0.9686449905328892,-0.7020530938773524,-0.3276621465977682,-0.39210815313215763,-1.4635149481321186,0.29612027706457605,0.26105527217988933,0.00511345664246089,-0.23458713337514692],\"y\":[-1.4153707420504142,-0.42064532276535904,-0.3427145165267695,-0.8022772692216189,-0.16128571166600914,0.4040508568145384,1.8861859012105302,0.17457781283183896,0.25755039072276437,-0.07444591576616721,-1.9187712152990415,-0.026513875449216878,0.06023020994102644,2.463242112485286,-0.19236096478112252,0.30154734233361247,-0.03471176970524331,-1.168678037619532,1.1428228145150205,0.7519330326867741,0.7910319470430469,-0.9093874547947389,1.4027943109360992,-1.4018510627922809,0.5868570938002703,2.1904556258099785,-0.9905363251306883,-0.5662977296027719,0.09965136508764122,-0.5034756541161992,-1.5506634310661327,0.06856297480602733,-1.0623037137261049,0.4735924306351816,-0.9194242342338032,1.5499344050175394,-0.7832532923362371,-0.3220615162056756,0.8135172173696698,-1.2308643164339552,0.22745993460412942,1.307142754282428,-1.6074832345612275,0.1846338585323042,0.25988279424842353,0.7818228717773104,-1.236950710878082,-1.3204566130842763,0.5219415656168976,0.29698467323318606,0.25049285034587654,0.3464482094969757,-0.6800247215784908,0.23225369716100355,0.29307247329868125,-0.7143514180263678,1.8657745111447566,0.4738329209117875,-1.1913034972026486,0.6565536086338297,-0.9746816702273214,0.787084603742452,1.158595579007404,-0.8206823183517105,0.9633761292443218,0.4127809269364983,0.82206015999449,1.8967929826539474,-0.2453881160028705,-0.7537361643574896,-0.8895144296255233,-0.8158102849654383,-0.0771017094141042,0.3411519748166439,0.27669079933001905,0.8271832490360238,0.01300189187790702,1.4535340771573169,-0.2646568332379561,2.720169166589619,0.6256673477650062,-0.8571575564162826,-1.0708924980611123,0.4824724152431853,-0.2234627853258509,0.714000494092092,0.47323762457354485,-0.07282891265687277,-0.846793718068405,-1.5148472246858646,-0.4465149520670211,0.8563987943234723,0.21409374413020396,-1.245738778711988,0.173180925851182,0.3853173797288368,-0.883857436201133,0.1537251059455279,0.058208718445999896,-1.142970297830623],\"z\":[0.3577873603482833,0.5607845263682344,1.083051243175277,1.053802052034903,-1.377669367957091,-0.9378250399151228,0.5150352672086598,0.5137859509122088,0.5150476863060479,3.852731490654721,0.570890510693167,1.135565640180599,0.9540017634932023,0.651391251305798,-0.3152692446403456,0.7589692204932674,-0.7728252145375718,-0.23681860674000887,-0.48536354782910346,0.08187413938632256,2.3146585666735087,-1.867265192591748,0.6862601903745135,-1.6127158711896517,-0.47193186578943347,1.088950596967366,0.06428001909546277,-1.0777447779293061,-0.7153037092599682,0.6795977489346758,-0.7303666317171367,0.21645858958197486,0.045571839903813784,-0.6516003476058171,2.1439440893253257,0.6339190223180112,-2.025142586657607,0.18645431476942764,-0.661786464768388,0.852433334796224,-0.7925207384327007,-0.11473644146689901,0.5049872789804571,0.8657551941701215,-1.2002964070557762,-0.3345012358409484,-0.4749453111609562,-0.6533292325737119,1.7654542402810969,0.40498171096095553,-1.2608839543350452,0.9178619470547761,2.1221561970126332,1.0324652605511468,-1.5193699659540134,-0.48423407286625136,1.2669111491866227,-0.7076694656187807,0.44381942814622843,0.7746340534293368,-0.926930471578083,-0.05952535606180008,-3.2412673400690726,-1.0243876413342898,-0.2525681513931603,-1.2477831819648495,1.6324113039316352,-1.4301413779606327,-0.44004448669698376,0.13074057728609134,1.4412732890661155,-1.4358621511794394,1.1631637521549596,0.010233061019587049,-0.9815086510479509,0.46210347426327075,0.19905969557347003,-0.6002168771587947,0.06980208499001891,-0.3853135968617602,0.11351734525124804,0.6621306745210467,1.586016816145352,-1.237815498826849,2.1330333746562666,-1.9520877995225019,-0.15178509503558332,0.5883172064845765,0.28099186773503265,-0.6226995198205938,-0.20812225035727522,-0.4930009346588328,-0.5893647569442115,0.8496020970210246,0.35701548596504734,-0.6929095952606542,0.8995998754332507,0.30729952087660933,0.8128621188389601,0.6296288419236122],\"type\":\"scatter3d\"}],                        {\"template\":{\"data\":{\"histogram2dcontour\":[{\"type\":\"histogram2dcontour\",\"colorbar\":{\"outlinewidth\":0,\"ticks\":\"\"},\"colorscale\":[[0.0,\"#0d0887\"],[0.1111111111111111,\"#46039f\"],[0.2222222222222222,\"#7201a8\"],[0.3333333333333333,\"#9c179e\"],[0.4444444444444444,\"#bd3786\"],[0.5555555555555556,\"#d8576b\"],[0.6666666666666666,\"#ed7953\"],[0.7777777777777778,\"#fb9f3a\"],[0.8888888888888888,\"#fdca26\"],[1.0,\"#f0f921\"]]}],\"choropleth\":[{\"type\":\"choropleth\",\"colorbar\":{\"outlinewidth\":0,\"ticks\":\"\"}}],\"histogram2d\":[{\"type\":\"histogram2d\",\"colorbar\":{\"outlinewidth\":0,\"ticks\":\"\"},\"colorscale\":[[0.0,\"#0d0887\"],[0.1111111111111111,\"#46039f\"],[0.2222222222222222,\"#7201a8\"],[0.3333333333333333,\"#9c179e\"],[0.4444444444444444,\"#bd3786\"],[0.5555555555555556,\"#d8576b\"],[0.6666666666666666,\"#ed7953\"],[0.7777777777777778,\"#fb9f3a\"],[0.8888888888888888,\"#fdca26\"],[1.0,\"#f0f921\"]]}],\"heatmap\":[{\"type\":\"heatmap\",\"colorbar\":{\"outlinewidth\":0,\"ticks\":\"\"},\"colorscale\":[[0.0,\"#0d0887\"],[0.1111111111111111,\"#46039f\"],[0.2222222222222222,\"#7201a8\"],[0.3333333333333333,\"#9c179e\"],[0.4444444444444444,\"#bd3786\"],[0.5555555555555556,\"#d8576b\"],[0.6666666666666666,\"#ed7953\"],[0.7777777777777778,\"#fb9f3a\"],[0.8888888888888888,\"#fdca26\"],[1.0,\"#f0f921\"]]}],\"heatmapgl\":[{\"type\":\"heatmapgl\",\"colorbar\":{\"outlinewidth\":0,\"ticks\":\"\"},\"colorscale\":[[0.0,\"#0d0887\"],[0.1111111111111111,\"#46039f\"],[0.2222222222222222,\"#7201a8\"],[0.3333333333333333,\"#9c179e\"],[0.4444444444444444,\"#bd3786\"],[0.5555555555555556,\"#d8576b\"],[0.6666666666666666,\"#ed7953\"],[0.7777777777777778,\"#fb9f3a\"],[0.8888888888888888,\"#fdca26\"],[1.0,\"#f0f921\"]]}],\"contourcarpet\":[{\"type\":\"contourcarpet\",\"colorbar\":{\"outlinewidth\":0,\"ticks\":\"\"}}],\"contour\":[{\"type\":\"contour\",\"colorbar\":{\"outlinewidth\":0,\"ticks\":\"\"},\"colorscale\":[[0.0,\"#0d0887\"],[0.1111111111111111,\"#46039f\"],[0.2222222222222222,\"#7201a8\"],[0.3333333333333333,\"#9c179e\"],[0.4444444444444444,\"#bd3786\"],[0.5555555555555556,\"#d8576b\"],[0.6666666666666666,\"#ed7953\"],[0.7777777777777778,\"#fb9f3a\"],[0.8888888888888888,\"#fdca26\"],[1.0,\"#f0f921\"]]}],\"surface\":[{\"type\":\"surface\",\"colorbar\":{\"outlinewidth\":0,\"ticks\":\"\"},\"colorscale\":[[0.0,\"#0d0887\"],[0.1111111111111111,\"#46039f\"],[0.2222222222222222,\"#7201a8\"],[0.3333333333333333,\"#9c179e\"],[0.4444444444444444,\"#bd3786\"],[0.5555555555555556,\"#d8576b\"],[0.6666666666666666,\"#ed7953\"],[0.7777777777777778,\"#fb9f3a\"],[0.8888888888888888,\"#fdca26\"],[1.0,\"#f0f921\"]]}],\"mesh3d\":[{\"type\":\"mesh3d\",\"colorbar\":{\"outlinewidth\":0,\"ticks\":\"\"}}],\"scatter\":[{\"fillpattern\":{\"fillmode\":\"overlay\",\"size\":10,\"solidity\":0.2},\"type\":\"scatter\"}],\"parcoords\":[{\"type\":\"parcoords\",\"line\":{\"colorbar\":{\"outlinewidth\":0,\"ticks\":\"\"}}}],\"scatterpolargl\":[{\"type\":\"scatterpolargl\",\"marker\":{\"colorbar\":{\"outlinewidth\":0,\"ticks\":\"\"}}}],\"bar\":[{\"error_x\":{\"color\":\"#2a3f5f\"},\"error_y\":{\"color\":\"#2a3f5f\"},\"marker\":{\"line\":{\"color\":\"#E5ECF6\",\"width\":0.5},\"pattern\":{\"fillmode\":\"overlay\",\"size\":10,\"solidity\":0.2}},\"type\":\"bar\"}],\"scattergeo\":[{\"type\":\"scattergeo\",\"marker\":{\"colorbar\":{\"outlinewidth\":0,\"ticks\":\"\"}}}],\"scatterpolar\":[{\"type\":\"scatterpolar\",\"marker\":{\"colorbar\":{\"outlinewidth\":0,\"ticks\":\"\"}}}],\"histogram\":[{\"marker\":{\"pattern\":{\"fillmode\":\"overlay\",\"size\":10,\"solidity\":0.2}},\"type\":\"histogram\"}],\"scattergl\":[{\"type\":\"scattergl\",\"marker\":{\"colorbar\":{\"outlinewidth\":0,\"ticks\":\"\"}}}],\"scatter3d\":[{\"type\":\"scatter3d\",\"line\":{\"colorbar\":{\"outlinewidth\":0,\"ticks\":\"\"}},\"marker\":{\"colorbar\":{\"outlinewidth\":0,\"ticks\":\"\"}}}],\"scattermapbox\":[{\"type\":\"scattermapbox\",\"marker\":{\"colorbar\":{\"outlinewidth\":0,\"ticks\":\"\"}}}],\"scatterternary\":[{\"type\":\"scatterternary\",\"marker\":{\"colorbar\":{\"outlinewidth\":0,\"ticks\":\"\"}}}],\"scattercarpet\":[{\"type\":\"scattercarpet\",\"marker\":{\"colorbar\":{\"outlinewidth\":0,\"ticks\":\"\"}}}],\"carpet\":[{\"aaxis\":{\"endlinecolor\":\"#2a3f5f\",\"gridcolor\":\"white\",\"linecolor\":\"white\",\"minorgridcolor\":\"white\",\"startlinecolor\":\"#2a3f5f\"},\"baxis\":{\"endlinecolor\":\"#2a3f5f\",\"gridcolor\":\"white\",\"linecolor\":\"white\",\"minorgridcolor\":\"white\",\"startlinecolor\":\"#2a3f5f\"},\"type\":\"carpet\"}],\"table\":[{\"cells\":{\"fill\":{\"color\":\"#EBF0F8\"},\"line\":{\"color\":\"white\"}},\"header\":{\"fill\":{\"color\":\"#C8D4E3\"},\"line\":{\"color\":\"white\"}},\"type\":\"table\"}],\"barpolar\":[{\"marker\":{\"line\":{\"color\":\"#E5ECF6\",\"width\":0.5},\"pattern\":{\"fillmode\":\"overlay\",\"size\":10,\"solidity\":0.2}},\"type\":\"barpolar\"}],\"pie\":[{\"automargin\":true,\"type\":\"pie\"}]},\"layout\":{\"autotypenumbers\":\"strict\",\"colorway\":[\"#636efa\",\"#EF553B\",\"#00cc96\",\"#ab63fa\",\"#FFA15A\",\"#19d3f3\",\"#FF6692\",\"#B6E880\",\"#FF97FF\",\"#FECB52\"],\"font\":{\"color\":\"#2a3f5f\"},\"hovermode\":\"closest\",\"hoverlabel\":{\"align\":\"left\"},\"paper_bgcolor\":\"white\",\"plot_bgcolor\":\"#E5ECF6\",\"polar\":{\"bgcolor\":\"#E5ECF6\",\"angularaxis\":{\"gridcolor\":\"white\",\"linecolor\":\"white\",\"ticks\":\"\"},\"radialaxis\":{\"gridcolor\":\"white\",\"linecolor\":\"white\",\"ticks\":\"\"}},\"ternary\":{\"bgcolor\":\"#E5ECF6\",\"aaxis\":{\"gridcolor\":\"white\",\"linecolor\":\"white\",\"ticks\":\"\"},\"baxis\":{\"gridcolor\":\"white\",\"linecolor\":\"white\",\"ticks\":\"\"},\"caxis\":{\"gridcolor\":\"white\",\"linecolor\":\"white\",\"ticks\":\"\"}},\"coloraxis\":{\"colorbar\":{\"outlinewidth\":0,\"ticks\":\"\"}},\"colorscale\":{\"sequential\":[[0.0,\"#0d0887\"],[0.1111111111111111,\"#46039f\"],[0.2222222222222222,\"#7201a8\"],[0.3333333333333333,\"#9c179e\"],[0.4444444444444444,\"#bd3786\"],[0.5555555555555556,\"#d8576b\"],[0.6666666666666666,\"#ed7953\"],[0.7777777777777778,\"#fb9f3a\"],[0.8888888888888888,\"#fdca26\"],[1.0,\"#f0f921\"]],\"sequentialminus\":[[0.0,\"#0d0887\"],[0.1111111111111111,\"#46039f\"],[0.2222222222222222,\"#7201a8\"],[0.3333333333333333,\"#9c179e\"],[0.4444444444444444,\"#bd3786\"],[0.5555555555555556,\"#d8576b\"],[0.6666666666666666,\"#ed7953\"],[0.7777777777777778,\"#fb9f3a\"],[0.8888888888888888,\"#fdca26\"],[1.0,\"#f0f921\"]],\"diverging\":[[0,\"#8e0152\"],[0.1,\"#c51b7d\"],[0.2,\"#de77ae\"],[0.3,\"#f1b6da\"],[0.4,\"#fde0ef\"],[0.5,\"#f7f7f7\"],[0.6,\"#e6f5d0\"],[0.7,\"#b8e186\"],[0.8,\"#7fbc41\"],[0.9,\"#4d9221\"],[1,\"#276419\"]]},\"xaxis\":{\"gridcolor\":\"white\",\"linecolor\":\"white\",\"ticks\":\"\",\"title\":{\"standoff\":15},\"zerolinecolor\":\"white\",\"automargin\":true,\"zerolinewidth\":2},\"yaxis\":{\"gridcolor\":\"white\",\"linecolor\":\"white\",\"ticks\":\"\",\"title\":{\"standoff\":15},\"zerolinecolor\":\"white\",\"automargin\":true,\"zerolinewidth\":2},\"scene\":{\"xaxis\":{\"backgroundcolor\":\"#E5ECF6\",\"gridcolor\":\"white\",\"linecolor\":\"white\",\"showbackground\":true,\"ticks\":\"\",\"zerolinecolor\":\"white\",\"gridwidth\":2},\"yaxis\":{\"backgroundcolor\":\"#E5ECF6\",\"gridcolor\":\"white\",\"linecolor\":\"white\",\"showbackground\":true,\"ticks\":\"\",\"zerolinecolor\":\"white\",\"gridwidth\":2},\"zaxis\":{\"backgroundcolor\":\"#E5ECF6\",\"gridcolor\":\"white\",\"linecolor\":\"white\",\"showbackground\":true,\"ticks\":\"\",\"zerolinecolor\":\"white\",\"gridwidth\":2}},\"shapedefaults\":{\"line\":{\"color\":\"#2a3f5f\"}},\"annotationdefaults\":{\"arrowcolor\":\"#2a3f5f\",\"arrowhead\":0,\"arrowwidth\":1},\"geo\":{\"bgcolor\":\"white\",\"landcolor\":\"#E5ECF6\",\"subunitcolor\":\"white\",\"showland\":true,\"showlakes\":true,\"lakecolor\":\"white\"},\"title\":{\"x\":0.05},\"mapbox\":{\"style\":\"light\"}}},\"title\":{\"text\":\"3D Scatter Plot using Plotly\"},\"scene\":{\"xaxis\":{\"title\":{\"text\":\"X Axis\"}},\"yaxis\":{\"title\":{\"text\":\"Y Axis\"}},\"zaxis\":{\"title\":{\"text\":\"Z Axis\"}}}},                        {\"responsive\": true}                    ).then(function(){\n",
              "                            \n",
              "var gd = document.getElementById('ef308627-161a-42c7-ad67-fbf65b49dc09');\n",
              "var x = new MutationObserver(function (mutations, observer) {{\n",
              "        var display = window.getComputedStyle(gd).display;\n",
              "        if (!display || display === 'none') {{\n",
              "            console.log([gd, 'removed!']);\n",
              "            Plotly.purge(gd);\n",
              "            observer.disconnect();\n",
              "        }}\n",
              "}});\n",
              "\n",
              "// Listen for the removal of the full notebook cells\n",
              "var notebookContainer = gd.closest('#notebook-container');\n",
              "if (notebookContainer) {{\n",
              "    x.observe(notebookContainer, {childList: true});\n",
              "}}\n",
              "\n",
              "// Listen for the clearing of the current output cell\n",
              "var outputEl = gd.closest('.output');\n",
              "if (outputEl) {{\n",
              "    x.observe(outputEl, {childList: true});\n",
              "}}\n",
              "\n",
              "                        })                };                            </script>        </div>\n",
              "</body>\n",
              "</html>"
            ]
          },
          "metadata": {}
        }
      ]
    }
  ]
}